{
 "cells": [
  {
   "cell_type": "markdown",
   "metadata": {},
   "source": [
    "Greg wants to build a string, of length . Starting with an empty string, he can perform\n",
    "\n",
    "- operations:\n",
    "\n",
    "    - Add a character to the end of S for A dollars.\n",
    "    - Copy any substring of S, and then add it to the end of for B dollars.\n",
    "\n",
    "Calculate minimum amount of money Greg needs to build S.\n",
    "\n",
    "- Constraints \n",
    "    - 1 <= T <= 3\n",
    "    - 1 <= N <= 3 x 10^4\n",
    "    - 1 <= A,B <= 10000\n",
    "    - S is composed of lowercase letters only\n",
    "\n",
    "- Examples:\n",
    "   S_i = \"\", S_f = \"aabaacaba\"\n",
    "   1. append \"a\"; S = \"a\"; cost = 4\n",
    "   2. append \"a\"; S = \"aa\"; cost = 4\n",
    "   3. append \"b\"; S = \"aab\"; cost = 4\n",
    "   4. copy and append \"aa\"; S = \"aabaa\"; cost = 5\n",
    "   5. append \"c\"; S = \"aabaac\"; cost = 4\n",
    "   6. copy and append \"aba\"; ss = \"aabaacaba\"; cost = 5\n",
    "   \n",
    "   ouput --> 4+4+4+5+4+5 = 26\n",
    "   \n",
    "   S_i = \"\", S_f = \"bacbacacb\"\n",
    "   1. append \"b\"; S = \"b\"; cost = 8\n",
    "   2. append \"a\"; S = \"ba\"; cost = 8\n",
    "   3. append \"c\"; S = \"bac\"; cost = 8\n",
    "   4. copy and append \"bac\"; S = \"bacbac\"; cost = 9\n",
    "   5. copy and append \"acb\"; S = \"bacbacacb\"; cost = 9\n",
    "   \n",
    "   output --> 8+8+8+9+9 = 42\n",
    "    \n"
   ]
  },
  {
   "cell_type": "code",
   "execution_count": 1,
   "metadata": {},
   "outputs": [],
   "source": [
    "def buildString(a, b, s):\n",
    "    res = 0\n",
    "    print(s)\n",
    "    return res"
   ]
  },
  {
   "cell_type": "code",
   "execution_count": 2,
   "metadata": {},
   "outputs": [
    {
     "name": "stdout",
     "output_type": "stream",
     "text": [
      "aabaacaba\n",
      "0\n"
     ]
    }
   ],
   "source": [
    "n= 9 \n",
    "apd = 4 \n",
    "cop = 5\n",
    "s = \"aabaacaba\"\n",
    "print(buildString(apd,cop,s))"
   ]
  },
  {
   "cell_type": "code",
   "execution_count": 3,
   "metadata": {},
   "outputs": [
    {
     "name": "stdout",
     "output_type": "stream",
     "text": [
      "bacbacacb\n",
      "0\n"
     ]
    }
   ],
   "source": [
    "n = 9 \n",
    "apd = 8 \n",
    "cop = 9\n",
    "s = \"bacbacacb\"\n",
    "print(buildString(apd,cop,s))"
   ]
  }
 ],
 "metadata": {
  "kernelspec": {
   "display_name": "Python 3",
   "language": "python",
   "name": "python3"
  },
  "language_info": {
   "codemirror_mode": {
    "name": "ipython",
    "version": 3
   },
   "file_extension": ".py",
   "mimetype": "text/x-python",
   "name": "python",
   "nbconvert_exporter": "python",
   "pygments_lexer": "ipython3",
   "version": "3.7.4"
  }
 },
 "nbformat": 4,
 "nbformat_minor": 2
}